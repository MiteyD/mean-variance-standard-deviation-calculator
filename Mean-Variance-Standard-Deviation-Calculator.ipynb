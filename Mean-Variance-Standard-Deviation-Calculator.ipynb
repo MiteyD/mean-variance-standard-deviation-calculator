{
 "cells": [
  {
   "cell_type": "markdown",
   "metadata": {},
   "source": [
    "# Mean-Variance-Standard Deviation Calculator\n",
    "\n",
    "This project entailed creating a function that uses Numpy to output the mean, variance, and standard deviation of the rows, columns, and elements in a 3 x 3 matrix."
   ]
  },
  {
   "cell_type": "code",
   "execution_count": null,
   "metadata": {},
   "outputs": [],
   "source": [
    "# -*- coding: utf-8 -*-\n",
    "\"\"\"\n",
    "Spyder Editor\n",
    "\n",
    "\"\"\"\n",
    "\n",
    "# Mean-Variance-Standard Deviation Calculator\n",
    "\n",
    "import numpy as np\n",
    "\n",
    "def calculate(list):\n",
    "  if len(list) != 9:\n",
    "    raise ValueError(\"List must contain nine numbers.\")\n",
    "  x = np.array(list).reshape(3, 3)\n",
    "  calculations = {\n",
    "    k: [func(x, axis=ax).tolist()\n",
    "      for ax in [0, 1, None]] \n",
    "      for (k, func) \n",
    "      in zip([\"mean\", \"variance\", \"standard deviation\", \"max\", \"min\", \"sum\"], \n",
    "             [np.mean, np.var, np.std, np.max, np.min, np.sum])\n",
    "  } \n",
    "\n",
    "\n",
    "  return calculations\n",
    "\n",
    "try:\n",
    "    calculate([1,2,3,4,5,6,7,8,9])\n",
    "except ValueError as error:\n",
    "    print(error)\n"
   ]
  }
 ],
 "metadata": {
  "kernelspec": {
   "display_name": "Python 3",
   "language": "python",
   "name": "python3"
  },
  "language_info": {
   "codemirror_mode": {
    "name": "ipython",
    "version": 3
   },
   "file_extension": ".py",
   "mimetype": "text/x-python",
   "name": "python",
   "nbconvert_exporter": "python",
   "pygments_lexer": "ipython3",
   "version": "3.7.9"
  }
 },
 "nbformat": 4,
 "nbformat_minor": 4
}
